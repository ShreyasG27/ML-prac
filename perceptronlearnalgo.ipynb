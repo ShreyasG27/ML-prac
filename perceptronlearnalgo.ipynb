{
  "nbformat": 4,
  "nbformat_minor": 0,
  "metadata": {
    "colab": {
      "name": "Untitled0.ipynb",
      "provenance": [],
      "collapsed_sections": [],
      "authorship_tag": "ABX9TyMOG7O7KWKglcf44lZNqs0E",
      "include_colab_link": true
    },
    "kernelspec": {
      "name": "python3",
      "display_name": "Python 3"
    },
    "language_info": {
      "name": "python"
    }
  },
  "cells": [
    {
      "cell_type": "markdown",
      "metadata": {
        "id": "view-in-github",
        "colab_type": "text"
      },
      "source": [
        "<a href=\"https://colab.research.google.com/github/ShreyasG27/ML-prac/blob/main/perceptronlearnalgo.ipynb\" target=\"_parent\"><img src=\"https://colab.research.google.com/assets/colab-badge.svg\" alt=\"Open In Colab\"/></a>"
      ]
    },
    {
      "cell_type": "code",
      "metadata": {
        "colab": {
          "base_uri": "https://localhost:8080/"
        },
        "id": "64QKaTFfD_UE",
        "outputId": "800c104d-126c-4645-dac0-a098ccf08290"
      },
      "source": [
        "import numpy as np\n",
        "\n",
        "class Perceptron(object):\n",
        "    def __init__(self,ip_size,lr=1,epochs=10):\n",
        "        self.W= np.zeros(ip_size+1)\n",
        "\n",
        "        self.epochs =epochs\n",
        "        self.lr= lr\n",
        "\n",
        "    def activtn_fn(self,x):\n",
        "        if x>0:\n",
        "            return int(1)\n",
        "        if x==0:\n",
        "            return int(0)\n",
        "        if x<0:\n",
        "            return int(-1)\n",
        "\n",
        "    def predict(self,x):\n",
        "        z= self.W.T.dot(x)\n",
        "        ac= self.activtn_fn(z)\n",
        "        return ac\n",
        "\n",
        "    def fit(self,X,d):\n",
        "        for _ in range (self.epochs):\n",
        "            for i in range (d.shape[0]):\n",
        "                x= np.insert(X[i],0,1)\n",
        "                y= self.predict(x)\n",
        "                e= d[i]-y\n",
        "                self.W= self.W+ self.lr*e*x\n",
        "\n",
        "\n",
        "if __name__ == \"__main__\":\n",
        "    X = np.array([\n",
        "        [-1, -1],\n",
        "        [-1, 1],\n",
        "        [1, -1],\n",
        "        [1, 1]\n",
        "    ])\n",
        "    d = np.array([-1, -1, -1, 1])\n",
        "\n",
        "    perceptron= Perceptron(ip_size=2, epochs=10)\n",
        "    perceptron.fit(X,d)\n",
        "    print(\"[b   w1   w2]\")\n",
        "    print(perceptron.W)"
      ],
      "execution_count": 9,
      "outputs": [
        {
          "output_type": "stream",
          "text": [
            "[b   w1   w2]\n",
            "[-1.  1.  1.]\n"
          ],
          "name": "stdout"
        }
      ]
    },
    {
      "cell_type": "code",
      "metadata": {
        "id": "63vdUMgRLvTB"
      },
      "source": [
        ""
      ],
      "execution_count": null,
      "outputs": []
    }
  ]
}