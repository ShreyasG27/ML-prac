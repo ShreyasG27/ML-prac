{
  "nbformat": 4,
  "nbformat_minor": 0,
  "metadata": {
    "colab": {
      "name": "Untitled1.ipynb",
      "provenance": [],
      "collapsed_sections": [],
      "authorship_tag": "ABX9TyMBGQAMn4VrGPqX9x3eJVeD",
      "include_colab_link": true
    },
    "kernelspec": {
      "name": "python3",
      "display_name": "Python 3"
    },
    "language_info": {
      "name": "python"
    }
  },
  "cells": [
    {
      "cell_type": "markdown",
      "metadata": {
        "id": "view-in-github",
        "colab_type": "text"
      },
      "source": [
        "<a href=\"https://colab.research.google.com/github/ShreyasG27/ML-prac/blob/main/backprop.ipynb\" target=\"_parent\"><img src=\"https://colab.research.google.com/assets/colab-badge.svg\" alt=\"Open In Colab\"/></a>"
      ]
    },
    {
      "cell_type": "code",
      "metadata": {
        "id": "uUdyiGXIJkQZ",
        "colab": {
          "base_uri": "https://localhost:8080/"
        },
        "outputId": "2acf7603-326b-49f3-e8d2-51fc62c55553"
      },
      "source": [
        "import numpy as np\n",
        "def activation_func(Z):\n",
        "    return 1/(1 + np.exp(-Z))\n",
        "def deriv_activation(delta, Z):\n",
        "    S = (Z*(1 - Z))\n",
        "    S = delta * S\n",
        "    return S\n",
        "\n",
        "\n",
        "X = np.array([1, 0, 1])\n",
        "V1 = np.array([0.3, 0.6, -0.1])\n",
        "V2 = np.array([0.5, -0.3, 0.4])\n",
        "\n",
        "Z = np.array([0.0, 0.0, 0.0])\n",
        "\n",
        "Z[1] = np.dot(V1, X)\n",
        "Z[2] = np.dot(V2, X)\n",
        "\n",
        "print('Zin = ', Z)\n",
        "Z = activation_func(Z)\n",
        "print('Z = ', Z)\n",
        "\n",
        "Z[0] = 1\n",
        "W = np.array([-0.2, 0.4, 0.1])\n",
        "Y = np.dot(W, Z)\n",
        "Y = activation_func(Y)\n",
        "print(Y)\n",
        "\n",
        "epochs=5\n",
        "\n",
        "#back propagation\n",
        "for i in range(epochs):\n",
        "    error = 1 - Y\n",
        "    err_op = np.array([0.0, 0.0, 0.0])\n",
        "    if error != 0:\n",
        "        learn_rt = 0.25\n",
        "        err_k = (1-Y)*Y*(1-Y)\n",
        "        err_in_op = np.dot(W, err_k)\n",
        "        print(err_in_op)\n",
        "        err_op[1] = deriv_activation(err_in_op[1], Z[1])\n",
        "        err_op[2] = deriv_activation(err_in_op[2], Z[2])\n",
        "        print(err_op)\n",
        "    \n",
        "        # new op layer W\n",
        "        W = np.add(W, np.dot(Z, learn_rt * err_k))\n",
        "        print('W_new = ', W)\n",
        "    \n",
        "        V1 = np.add(V1, np.dot(X, learn_rt *err_op[1]))\n",
        "        V2 = np.add(V2, np.dot(X, learn_rt *err_op[2]))\n",
        "        print('V1_new = ',V1)\n",
        "        print('V2_new = ',V2)"
      ],
      "execution_count": null,
      "outputs": [
        {
          "output_type": "stream",
          "text": [
            "Zin =  [0.  0.2 0.9]\n",
            "Z =  [0.5       0.549834  0.7109495]\n",
            "0.5227414361305817\n",
            "[-0.02381356  0.04762713  0.01190678]\n",
            "[0.         0.0117885  0.00244685]\n",
            "W_new =  [-0.17023305  0.41636688  0.1211628 ]\n",
            "V1_new =  [ 0.30294713  0.6        -0.09705287]\n",
            "V2_new =  [ 0.50061171 -0.3         0.40061171]\n",
            "[-0.02026928  0.0495759   0.01442659]\n",
            "[0.         0.01227086 0.00296467]\n",
            "W_new =  [-0.14046609  0.43273377  0.1423256 ]\n",
            "V1_new =  [ 0.30601484  0.6        -0.09398516]\n",
            "V2_new =  [ 0.50135288 -0.3         0.40135288]\n",
            "[-0.01672499  0.05152466  0.0169464 ]\n",
            "[0.         0.01275321 0.00348249]\n",
            "W_new =  [-0.11069914  0.44910065  0.1634884 ]\n",
            "V1_new =  [ 0.30920314  0.6        -0.09079686]\n",
            "V2_new =  [ 0.5022235 -0.3        0.4022235]\n",
            "[-0.0131807   0.05347343  0.01946621]\n",
            "[0.         0.01323556 0.00400031]\n",
            "W_new =  [-0.08093218  0.46546753  0.1846512 ]\n",
            "V1_new =  [ 0.31251203  0.6        -0.08748797]\n",
            "V2_new =  [ 0.50322358 -0.3         0.40322358]\n",
            "[-0.00963642  0.0554222   0.02198602]\n",
            "[0.         0.01371791 0.00451813]\n",
            "W_new =  [-0.05116523  0.48183442  0.20581401]\n",
            "V1_new =  [ 0.31594151  0.6        -0.08405849]\n",
            "V2_new =  [ 0.50435311 -0.3         0.40435311]\n"
          ],
          "name": "stdout"
        }
      ]
    }
  ]
}