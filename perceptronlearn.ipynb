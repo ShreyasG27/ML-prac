{
  "nbformat": 4,
  "nbformat_minor": 0,
  "metadata": {
    "colab": {
      "name": "Untitled7.ipynb",
      "provenance": [],
      "collapsed_sections": [],
      "authorship_tag": "ABX9TyO+42S9Y8WBXwbFykmBIL/G",
      "include_colab_link": true
    },
    "kernelspec": {
      "name": "python3",
      "display_name": "Python 3"
    },
    "language_info": {
      "name": "python"
    }
  },
  "cells": [
    {
      "cell_type": "markdown",
      "metadata": {
        "id": "view-in-github",
        "colab_type": "text"
      },
      "source": [
        "<a href=\"https://colab.research.google.com/github/ShreyasG27/ML-prac/blob/main/perceptronlearn.ipynb\" target=\"_parent\"><img src=\"https://colab.research.google.com/assets/colab-badge.svg\" alt=\"Open In Colab\"/></a>"
      ]
    },
    {
      "cell_type": "code",
      "metadata": {
        "colab": {
          "base_uri": "https://localhost:8080/"
        },
        "id": "ut1BsIXeUqkE",
        "outputId": "9c35f895-0cfc-4356-9aa2-804a586ee627"
      },
      "source": [
        "import matplotlib.pyplot as plt\n",
        "import numpy as np\n",
        "\n",
        "def learn_percep(x , y , alpha , epoch ,threshold):\n",
        "    w = np.zeros((x.shape[1],1))\n",
        "    for t in range(epoch):\n",
        "        for i in range(x.shape[0]):\n",
        "            yt = np.dot(x[i] , w)\n",
        "            yt = np.reshape(yt , (1,1))\n",
        "\n",
        "            if (yt > threshold) :\n",
        "                yin=1\n",
        "            elif (yt < (-1*threshold)):\n",
        "                yin=-1\n",
        "            else : yin =0;\n",
        "\n",
        "            #print(yin)\n",
        "            if (yin != y[i]):\n",
        "                p = np.transpose(x[i])\n",
        "                p = np.reshape(p , (x.shape[1],1))\n",
        "                w = w + alpha*y[i]*p\n",
        "\n",
        "            #print(w)\n",
        "    return w\n",
        "\n",
        "                   \n",
        "x = np.array([[1 , 1 , 1] , [1 , 0 , 1] , [0 , 1 , 1] , [0 , 0 , 1]])\n",
        "\n",
        "\n",
        "yor = np.array([1 , 1 , 1 , -1])\n",
        "yor = np.reshape(yor , (4 , 1))\n",
        "\n",
        "\n",
        "yand = np.array([1 , -1 , -1 , -1])\n",
        "yand = np.reshape(yand , (4 , 1))\n",
        "\n",
        "yandNot = np.array([-1 , 1 , -1 , -1])\n",
        "yandNot = np.reshape(yandNot , (4 , 1))\n",
        "\n",
        "epoch = int(input(\"Enter epoch \"))\n",
        "alpha = float(input(\"Enter learning rate \"))\n",
        "threshold = float(input(\"Enter threshold \"))\n",
        "\n",
        "print(\"input x : \")\n",
        "print(x)\n",
        "\n",
        "##OR perceptron\n",
        "w1 = learn_percep(x , yor , alpha , epoch , threshold)\n",
        "print(\"Weights for OR perceptron : \")\n",
        "print(w1)\n",
        "\n",
        "##AND perceptron\n",
        "w2 = learn_percep(x , yand , alpha , epoch , threshold)\n",
        "print(\"Weights for AND perceptron : \")\n",
        "print(w2)\n",
        "\n",
        "##AND NOT (A.(~B)) perceptron\n",
        "w3 = learn_percep(x , yandNot , alpha , epoch , threshold)\n",
        "\n",
        "print(\"Weights for AND NOT (A.(~B)) perceptron : \")\n",
        "print(w3)\n",
        "\n",
        "\n"
      ],
      "execution_count": 4,
      "outputs": [
        {
          "output_type": "stream",
          "text": [
            "Enter epoch 5\n",
            "Enter learning rate 1\n",
            "Enter threshold 1\n",
            "input x : \n",
            "[[1 1 1]\n",
            " [1 0 1]\n",
            " [0 1 1]\n",
            " [0 0 1]]\n",
            "Weights for OR perceptron : \n",
            "[[ 3.]\n",
            " [ 2.]\n",
            " [-1.]]\n",
            "Weights for AND perceptron : \n",
            "[[ 1.]\n",
            " [ 1.]\n",
            " [-4.]]\n",
            "Weights for AND NOT (A.(~B)) perceptron : \n",
            "[[ 3.]\n",
            " [-3.]\n",
            " [-2.]]\n"
          ],
          "name": "stdout"
        }
      ]
    }
  ]
}