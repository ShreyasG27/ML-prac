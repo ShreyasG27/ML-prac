{
  "nbformat": 4,
  "nbformat_minor": 0,
  "metadata": {
    "colab": {
      "name": "kmeans.ipynb",
      "provenance": [],
      "authorship_tag": "ABX9TyPv0Oz6zWLQbrVNAYudYQ9c",
      "include_colab_link": true
    },
    "kernelspec": {
      "name": "python3",
      "display_name": "Python 3"
    }
  },
  "cells": [
    {
      "cell_type": "markdown",
      "metadata": {
        "id": "view-in-github",
        "colab_type": "text"
      },
      "source": [
        "<a href=\"https://colab.research.google.com/github/ShreyasG27/ML-prac/blob/main/kmeans.ipynb\" target=\"_parent\"><img src=\"https://colab.research.google.com/assets/colab-badge.svg\" alt=\"Open In Colab\"/></a>"
      ]
    },
    {
      "cell_type": "code",
      "metadata": {
        "id": "6RreVmgDe6Jy"
      },
      "source": [
        "from pandas import DataFrame\r\n",
        "import matplotlib.pyplot as plt\r\n",
        "from sklearn.cluster import KMeans\r\n"
      ],
      "execution_count": 1,
      "outputs": []
    },
    {
      "cell_type": "code",
      "metadata": {
        "id": "pzzq6DakfRkR"
      },
      "source": [
        "Data = {'x': [2,2,8,5,7,6,1,4],\r\n",
        "        'y': [10,5,4,8,5,4,2,9]\r\n",
        "       }\r\n",
        "  \r\n",
        "df = DataFrame(Data,columns=['x','y'])"
      ],
      "execution_count": 2,
      "outputs": []
    },
    {
      "cell_type": "code",
      "metadata": {
        "colab": {
          "base_uri": "https://localhost:8080/"
        },
        "id": "790fojt6fUwb",
        "outputId": "934b31b2-4ca9-4818-a5a1-bf89bb244b45"
      },
      "source": [
        "kmeans = KMeans(n_clusters=3).fit(df)\r\n",
        "centroids = kmeans.cluster_centers_\r\n",
        "print(centroids)"
      ],
      "execution_count": 3,
      "outputs": [
        {
          "output_type": "stream",
          "text": [
            "[[3.66666667 9.        ]\n",
            " [7.         4.33333333]\n",
            " [1.5        3.5       ]]\n"
          ],
          "name": "stdout"
        }
      ]
    },
    {
      "cell_type": "code",
      "metadata": {
        "colab": {
          "base_uri": "https://localhost:8080/",
          "height": 265
        },
        "id": "pp5397X5fXXl",
        "outputId": "35c265f2-66d6-4659-c5bb-3d60d74ca7f0"
      },
      "source": [
        "plt.scatter(df['x'], df['y'], c= kmeans.labels_.astype(float), s=50, alpha=0.5)\r\n",
        "plt.scatter(centroids[:, 0], centroids[:, 1], c='red', s=50)\r\n",
        "plt.show()"
      ],
      "execution_count": 4,
      "outputs": [
        {
          "output_type": "display_data",
          "data": {
            "image/png": "[encoded data removed]",
            "text/plain": [
              "<Figure size 432x288 with 1 Axes>"
            ]
          },
          "metadata": {
            "tags": [],
            "needs_background": "light"
          }
        }
      ]
    },
    {
      "cell_type": "code",
      "metadata": {
        "id": "w-InHK2afZ1c"
      },
      "source": [
        ""
      ],
      "execution_count": null,
      "outputs": []
    }
  ]
}